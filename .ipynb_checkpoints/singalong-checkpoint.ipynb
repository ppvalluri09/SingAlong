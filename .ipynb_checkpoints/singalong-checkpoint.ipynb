{
 "cells": [
  {
   "cell_type": "code",
   "execution_count": 1,
   "metadata": {},
   "outputs": [
    {
     "name": "stderr",
     "output_type": "stream",
     "text": [
      "Warning message:\n",
      "\"package 'httr' was built under R version 3.6.3\"\n",
      "Warning message:\n",
      "\"package 'ggplot2' was built under R version 3.6.3\"\n"
     ]
    }
   ],
   "source": [
    "library(httr)\n",
    "library(ggplot2)\n",
    "library(rjson)"
   ]
  },
  {
   "cell_type": "code",
   "execution_count": 3,
   "metadata": {},
   "outputs": [],
   "source": [
    "API_ENDPOINT <- \"http://spotify-user-liked.herokuapp.com/\"\n",
    "API_KEY <- \"BQDlYX3TsTceq-BESeXJQXUDjNf89eueuH3iqiO9PtCjhFtDqa68cvf4OtCu8LtEKsrWgbsX_0cLz0g5ciRWxr9punkbfO103JRNOd8tOBMwVSHTZ6RYXwTjX9eBw9cfwN2mP8VXlzkpf76gYUJWugJYAMG_ZUjBkClJ6yAg9M5VYIM-kQPdu6Vspc8Ouc7y3WAEIHowBQFqnTts-ed0pTLkTe8suZCl9nBA55sqmrdOJZhG56Um_Av-T_AeZxxeRXaf3SdjN2o\""
   ]
  },
  {
   "cell_type": "code",
   "execution_count": 8,
   "metadata": {},
   "outputs": [],
   "source": [
    "r <- GET(paste(API_ENDPOINT, API_KEY, sep=\"\"))"
   ]
  },
  {
   "cell_type": "code",
   "execution_count": 23,
   "metadata": {},
   "outputs": [
    {
     "name": "stderr",
     "output_type": "stream",
     "text": [
      "No encoding supplied: defaulting to UTF-8.\n",
      "\n",
      "Warning message in file(file, \"rt\"):\n",
      "\"cannot open file '[{\"artist\":[\"Regard\"],\"features\":{\"acousticness\":0.177,\"danceability\":0.88,\"energy\":0.751,\"instrumentalness\":6.43e-05,\"key\":7,\"liveness\":0.106,\"loudness\":-4.258,\"speechiness\":0.0874,\"tempo\":117.948,\"valence\":0.884},\"name\":\"Ride It\"},{\"artist\":[\"Roll Rida\",\"Rahul Nambiar\",\"Lady Kash\",\"Rahul Sipligunj\"],\"features\":{\"acousticness\":0.252,\"danceability\":0.83,\"energy\":0.61,\"instrumentalness\":1.27e-05,\"key\":1,\"liveness\":0.115,\"loudness\":-6.293,\"speechiness\":0.0555,\"tempo\":96.011,\"valence\":0.608},\"name\":\"OMG Daddy\"},{\"artist\":[\"Sid Sriram\"],\"features\":{\"acousticness\":0.91,\"danceability\":0.568,\"energy\":0.663,\"instrumentalness\":4.82e-05,\"key\":8,\"liveness\":0.124,\"loudness\":-6.179,\"speechiness\":0.0345,\"tempo\":165.203,\"valence\":0.808},\"name\":\"Samajavaragamana\"},{\"artist\":[\"Armaan Malik\"],\"features\":{\"acousticness\":0.753,\"danceability\":0.666,\"energy\":0.644,\"instrumentalness\":0.000262,\"key\":11,\"liveness\":0.124,\"loudness\":-8.964,\"speechiness\":0.145,\"tempo\":115.1,\"valence\":0.89},\"name [... truncated]\"\n"
     ]
    },
    {
     "ename": "ERROR",
     "evalue": "Error in file(file, \"rt\"): cannot open the connection\n",
     "output_type": "error",
     "traceback": [
      "Error in file(file, \"rt\"): cannot open the connection\nTraceback:\n",
      "1. read.table(data)",
      "2. file(file, \"rt\")"
     ]
    }
   ],
   "source": [
    "data <- content(r)"
   ]
  }
 ],
 "metadata": {
  "kernelspec": {
   "display_name": "R",
   "language": "R",
   "name": "ir"
  },
  "language_info": {
   "codemirror_mode": "r",
   "file_extension": ".r",
   "mimetype": "text/x-r-source",
   "name": "R",
   "pygments_lexer": "r",
   "version": "3.6.1"
  }
 },
 "nbformat": 4,
 "nbformat_minor": 2
}
