{
 "cells": [
  {
   "cell_type": "code",
   "execution_count": 1,
   "metadata": {},
   "outputs": [
    {
     "name": "stderr",
     "output_type": "stream",
     "text": [
      "Warning message:\n",
      "\"package 'httr' was built under R version 3.6.3\"\n",
      "Warning message:\n",
      "\"package 'ggplot2' was built under R version 3.6.3\"\n"
     ]
    }
   ],
   "source": [
    "library(httr)\n",
    "library(ggplot2)\n",
    "library(rjson)"
   ]
  },
  {
   "cell_type": "code",
   "execution_count": 6,
   "metadata": {},
   "outputs": [],
   "source": [
    "API_ENDPOINT <- \"http://spotify-user-liked.herokuapp.com/\"\n",
    "API_KEY <- \"BQCmDtQGp928KB5OcJ86PqgCgk4T1BcJp4Ymwqlg3x_opLRDMZYlVbBaHl-bqL7_UrNDjBC1VNsn0vYW4JLUQErA3DYvLNw_OmYkXDhVPFUP84kQxJC8ttHhGY3HIlWGYLg2-uXCV64ROj7RKY1ISOE9d6s-KVLVPeV6wFUy0jpMGSNIQHhAH_TmQ9GA5ynSSoiCBx18KXDpcEK_KpLD0ux7FAg-eiEoN_413qWmCVZ0ZS8hdUfgu3UPRKPmiJDBrMLaGibg0mg\""
   ]
  },
  {
   "cell_type": "code",
   "execution_count": 7,
   "metadata": {},
   "outputs": [],
   "source": [
    "r <- GET(paste(API_ENDPOINT, API_KEY, sep=\"\"))"
   ]
  },
  {
   "cell_type": "code",
   "execution_count": 10,
   "metadata": {},
   "outputs": [],
   "source": [
    "data <- content(r)"
   ]
  },
  {
   "cell_type": "code",
   "execution_count": null,
   "metadata": {},
   "outputs": [],
   "source": []
  }
 ],
 "metadata": {
  "kernelspec": {
   "display_name": "R",
   "language": "R",
   "name": "ir"
  },
  "language_info": {
   "codemirror_mode": "r",
   "file_extension": ".r",
   "mimetype": "text/x-r-source",
   "name": "R",
   "pygments_lexer": "r",
   "version": "3.6.1"
  }
 },
 "nbformat": 4,
 "nbformat_minor": 2
}
